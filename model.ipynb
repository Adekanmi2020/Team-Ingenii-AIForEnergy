{
  "nbformat": 4,
  "nbformat_minor": 2,
  "metadata": {
    "language_info": {
      "codemirror_mode": {
        "name": "ipython",
        "version": 3
      },
      "file_extension": ".py",
      "mimetype": "text/x-python",
      "name": "python",
      "nbconvert_exporter": "python",
      "pygments_lexer": "ipython3",
      "version": "3.7.3"
    },
    "orig_nbformat": 2,
    "kernelspec": {
      "name": "python373jvsc74a57bd0396af6e50a654b74e0b907d010e7b4848e686b9ebfbf307dfc966b596db37470",
      "display_name": "Python 3.7.3 64-bit"
    },
    "metadata": {
      "interpreter": {
        "hash": "396af6e50a654b74e0b907d010e7b4848e686b9ebfbf307dfc966b596db37470"
      }
    },
    "colab": {
      "name": "model.ipynb",
      "provenance": [],
      "toc_visible": true
    },
    "accelerator": "GPU"
  },
  "cells": [
    {
      "cell_type": "markdown",
      "source": [
        "# Import Statements"
      ],
      "metadata": {
        "id": "drhXUzoxsrLt"
      }
    },
    {
      "cell_type": "code",
      "execution_count": null,
      "source": [
        "import pandas as pd\r\n",
        "\r\n",
        "import numpy as np\r\n",
        "\r\n",
        "from sklearn.feature_selection import VarianceThreshold\r\n",
        "from sklearn.linear_model import LassoCV\r\n",
        "from sklearn.feature_selection import SelectFromModel\r\n",
        "from sklearn.tree import DecisionTreeClassifier\r\n",
        "from sklearn.linear_model import LinearRegression\r\n",
        "from sklearn.model_selection import train_test_split\r\n",
        "from sklearn.metrics import accuracy_score\r\n",
        "\r\n",
        "import pickle\r\n",
        "\r\n",
        "from scipy import stats\r\n",
        "\r\n",
        "import seaborn as sn\r\n",
        "import matplotlib.pyplot as plt\r\n",
        "\r\n",
        "import io\r\n",
        "from google.colab import files"
      ],
      "outputs": [],
      "metadata": {
        "id": "thIa5wQKRJ-O"
      }
    },
    {
      "cell_type": "markdown",
      "source": [
        "# Loading and Cleaning the data"
      ],
      "metadata": {
        "id": "66gHKet0sw8W"
      }
    },
    {
      "cell_type": "code",
      "execution_count": null,
      "source": [
        "uploaded = files.upload()"
      ],
      "outputs": [
        {
          "output_type": "display_data",
          "data": {
            "text/html": [
              "\n",
              "     <input type=\"file\" id=\"files-120f69f4-915d-451b-9c0f-08308e2f3cd2\" name=\"files[]\" multiple disabled\n",
              "        style=\"border:none\" />\n",
              "     <output id=\"result-120f69f4-915d-451b-9c0f-08308e2f3cd2\">\n",
              "      Upload widget is only available when the cell has been executed in the\n",
              "      current browser session. Please rerun this cell to enable.\n",
              "      </output>\n",
              "      <script src=\"/nbextensions/google.colab/files.js\"></script> "
            ],
            "text/plain": [
              "<IPython.core.display.HTML object>"
            ]
          },
          "metadata": {}
        },
        {
          "output_type": "stream",
          "name": "stdout",
          "text": [
            "Saving dataset_CO2_emission_of_cars.csv to dataset_CO2_emission_of_cars.csv\n"
          ]
        }
      ],
      "metadata": {
        "colab": {
          "resources": {
            "http://localhost:8080/nbextensions/google.colab/files.js": {
              "data": "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",
              "ok": true,
              "headers": [
                [
                  "content-type",
                  "application/javascript"
                ]
              ],
              "status": 200,
              "status_text": ""
            }
          },
          "base_uri": "https://localhost:8080/",
          "height": 72
        },
        "id": "xJ2dftwoYGiF",
        "outputId": "93f1c212-8f57-45fb-dea7-502fbba36b2a"
      }
    },
    {
      "cell_type": "code",
      "execution_count": null,
      "source": [
        "# Load and clean the data\r\n",
        "data = pd.read_csv(io.BytesIO(uploaded['dataset.csv']))\r\n",
        "\r\n",
        "if set(data.all()) == {True} and set(data.all(axis ='columns')) == {True}:\r\n",
        "  print(\"Data is Complete\")\r\n",
        "\r\n",
        "make_dict = {}\r\n",
        "i = 1\r\n",
        "for unique_make in set(data['Make']):\r\n",
        "  make_dict[unique_make] = i\r\n",
        "  i = i + 1\r\n",
        "  \r\n",
        "model_dict = {}\r\n",
        "i = 1\r\n",
        "for unique_model in set(data['Model']):\r\n",
        "  model_dict[unique_model] = i\r\n",
        "  i = i + 1\r\n",
        "\r\n",
        "vehicle_class_dict = {}\r\n",
        "i = 1\r\n",
        "for unique_vehicle_class in set(data['Vehicle Class']):\r\n",
        "  vehicle_class_dict[unique_vehicle_class] = i\r\n",
        "  i = i + 1\r\n",
        "\r\n",
        "transmission_dict = {}\r\n",
        "i = 1\r\n",
        "for unique_transmission in set(data['Transmission']):\r\n",
        "  transmission_dict[unique_transmission] = i\r\n",
        "  i = i + 1\r\n",
        "  \r\n",
        "transmission_type_dict = {}\r\n",
        "i = 1\r\n",
        "for unique_transmission_type in set(data['Transmission Type']):\r\n",
        "  transmission_type_dict[unique_transmission_type] = i\r\n",
        "  i = i + 1\r\n",
        "\r\n",
        "fuel_type_dict = {}\r\n",
        "i = 1\r\n",
        "for unique_fuel_type in set(data['Fuel Type']):\r\n",
        "  fuel_type_dict[unique_fuel_type] = i\r\n",
        "  i = i + 1\r\n",
        "\r\n",
        "data_clean = data\r\n",
        "data_clean['Make'] = data_clean['Make'].map(make_dict, 0)\r\n",
        "data_clean['Model'] = data_clean['Model'].map(model_dict, 0)\r\n",
        "data_clean['Vehicle Class'] = data_clean['Vehicle Class'].map(vehicle_class_dict, 0)\r\n",
        "data_clean['Transmission'] = data_clean['Transmission'].map(transmission_dict, 0)\r\n",
        "data_clean['Transmission Type'] = data_clean['Transmission Type'].map(transmission_type_dict, 0)\r\n",
        "data_clean['Fuel Type'] = data_clean['Fuel Type'].map(fuel_type_dict, 0)\r\n",
        "\r\n",
        "data_clean.head()"
      ],
      "outputs": [
        {
          "output_type": "stream",
          "name": "stdout",
          "text": [
            "Data is Complete\n"
          ]
        },
        {
          "output_type": "execute_result",
          "data": {
            "text/html": [
              "<div>\n",
              "<style scoped>\n",
              "    .dataframe tbody tr th:only-of-type {\n",
              "        vertical-align: middle;\n",
              "    }\n",
              "\n",
              "    .dataframe tbody tr th {\n",
              "        vertical-align: top;\n",
              "    }\n",
              "\n",
              "    .dataframe thead th {\n",
              "        text-align: right;\n",
              "    }\n",
              "</style>\n",
              "<table border=\"1\" class=\"dataframe\">\n",
              "  <thead>\n",
              "    <tr style=\"text-align: right;\">\n",
              "      <th></th>\n",
              "      <th>Make</th>\n",
              "      <th>Model</th>\n",
              "      <th>Vehicle Class</th>\n",
              "      <th>Engine Size(L)</th>\n",
              "      <th>Cylinders</th>\n",
              "      <th>Transmission</th>\n",
              "      <th>Transmission Type</th>\n",
              "      <th>Fuel Type</th>\n",
              "      <th>Fuel Consumption City (L/100 km)</th>\n",
              "      <th>Fuel Consumption Hwy (L/100 km)</th>\n",
              "      <th>Fuel Consumption Comb (L/100 km)</th>\n",
              "      <th>Fuel Consumption Comb (mpg)</th>\n",
              "      <th>CO2 Emissions(g/km)</th>\n",
              "    </tr>\n",
              "  </thead>\n",
              "  <tbody>\n",
              "    <tr>\n",
              "      <th>0</th>\n",
              "      <td>28</td>\n",
              "      <td>172</td>\n",
              "      <td>16</td>\n",
              "      <td>2.0</td>\n",
              "      <td>4</td>\n",
              "      <td>3</td>\n",
              "      <td>9</td>\n",
              "      <td>5</td>\n",
              "      <td>9.9</td>\n",
              "      <td>6.7</td>\n",
              "      <td>8.5</td>\n",
              "      <td>33</td>\n",
              "      <td>196</td>\n",
              "    </tr>\n",
              "    <tr>\n",
              "      <th>1</th>\n",
              "      <td>28</td>\n",
              "      <td>172</td>\n",
              "      <td>16</td>\n",
              "      <td>2.4</td>\n",
              "      <td>4</td>\n",
              "      <td>4</td>\n",
              "      <td>15</td>\n",
              "      <td>5</td>\n",
              "      <td>11.2</td>\n",
              "      <td>7.7</td>\n",
              "      <td>9.6</td>\n",
              "      <td>29</td>\n",
              "      <td>221</td>\n",
              "    </tr>\n",
              "    <tr>\n",
              "      <th>2</th>\n",
              "      <td>28</td>\n",
              "      <td>312</td>\n",
              "      <td>16</td>\n",
              "      <td>1.5</td>\n",
              "      <td>4</td>\n",
              "      <td>5</td>\n",
              "      <td>1</td>\n",
              "      <td>5</td>\n",
              "      <td>6.0</td>\n",
              "      <td>5.8</td>\n",
              "      <td>5.9</td>\n",
              "      <td>48</td>\n",
              "      <td>136</td>\n",
              "    </tr>\n",
              "    <tr>\n",
              "      <th>3</th>\n",
              "      <td>28</td>\n",
              "      <td>726</td>\n",
              "      <td>13</td>\n",
              "      <td>3.5</td>\n",
              "      <td>6</td>\n",
              "      <td>3</td>\n",
              "      <td>23</td>\n",
              "      <td>5</td>\n",
              "      <td>12.7</td>\n",
              "      <td>9.1</td>\n",
              "      <td>11.1</td>\n",
              "      <td>25</td>\n",
              "      <td>255</td>\n",
              "    </tr>\n",
              "    <tr>\n",
              "      <th>4</th>\n",
              "      <td>28</td>\n",
              "      <td>1195</td>\n",
              "      <td>13</td>\n",
              "      <td>3.5</td>\n",
              "      <td>6</td>\n",
              "      <td>3</td>\n",
              "      <td>23</td>\n",
              "      <td>5</td>\n",
              "      <td>12.1</td>\n",
              "      <td>8.7</td>\n",
              "      <td>10.6</td>\n",
              "      <td>27</td>\n",
              "      <td>244</td>\n",
              "    </tr>\n",
              "  </tbody>\n",
              "</table>\n",
              "</div>"
            ],
            "text/plain": [
              "   Make  Model  ...  Fuel Consumption Comb (mpg)  CO2 Emissions(g/km)\n",
              "0    28    172  ...                           33                  196\n",
              "1    28    172  ...                           29                  221\n",
              "2    28    312  ...                           48                  136\n",
              "3    28    726  ...                           25                  255\n",
              "4    28   1195  ...                           27                  244\n",
              "\n",
              "[5 rows x 13 columns]"
            ]
          },
          "metadata": {},
          "execution_count": 3
        }
      ],
      "metadata": {
        "colab": {
          "base_uri": "https://localhost:8080/",
          "height": 292
        },
        "id": "Ct7DH5tYQLTD",
        "outputId": "df57ad16-b712-4d45-857d-74aec3c34ecf"
      }
    },
    {
      "cell_type": "markdown",
      "source": [
        "# Feature Selection"
      ],
      "metadata": {
        "id": "Fbdxvjaise4L"
      }
    },
    {
      "cell_type": "code",
      "execution_count": null,
      "source": [
        "X = data_clean.drop(columns=['Make', 'Model', 'CO2 Emissions(g/km)'])\r\n",
        "y = data_clean['CO2 Emissions(g/km)']\r\n",
        "\r\n",
        "X.head()"
      ],
      "outputs": [
        {
          "output_type": "execute_result",
          "data": {
            "text/html": [
              "<div>\n",
              "<style scoped>\n",
              "    .dataframe tbody tr th:only-of-type {\n",
              "        vertical-align: middle;\n",
              "    }\n",
              "\n",
              "    .dataframe tbody tr th {\n",
              "        vertical-align: top;\n",
              "    }\n",
              "\n",
              "    .dataframe thead th {\n",
              "        text-align: right;\n",
              "    }\n",
              "</style>\n",
              "<table border=\"1\" class=\"dataframe\">\n",
              "  <thead>\n",
              "    <tr style=\"text-align: right;\">\n",
              "      <th></th>\n",
              "      <th>Vehicle Class</th>\n",
              "      <th>Engine Size(L)</th>\n",
              "      <th>Cylinders</th>\n",
              "      <th>Transmission</th>\n",
              "      <th>Transmission Type</th>\n",
              "      <th>Fuel Type</th>\n",
              "      <th>Fuel Consumption City (L/100 km)</th>\n",
              "      <th>Fuel Consumption Hwy (L/100 km)</th>\n",
              "      <th>Fuel Consumption Comb (L/100 km)</th>\n",
              "      <th>Fuel Consumption Comb (mpg)</th>\n",
              "    </tr>\n",
              "  </thead>\n",
              "  <tbody>\n",
              "    <tr>\n",
              "      <th>0</th>\n",
              "      <td>16</td>\n",
              "      <td>2.0</td>\n",
              "      <td>4</td>\n",
              "      <td>3</td>\n",
              "      <td>9</td>\n",
              "      <td>5</td>\n",
              "      <td>9.9</td>\n",
              "      <td>6.7</td>\n",
              "      <td>8.5</td>\n",
              "      <td>33</td>\n",
              "    </tr>\n",
              "    <tr>\n",
              "      <th>1</th>\n",
              "      <td>16</td>\n",
              "      <td>2.4</td>\n",
              "      <td>4</td>\n",
              "      <td>4</td>\n",
              "      <td>15</td>\n",
              "      <td>5</td>\n",
              "      <td>11.2</td>\n",
              "      <td>7.7</td>\n",
              "      <td>9.6</td>\n",
              "      <td>29</td>\n",
              "    </tr>\n",
              "    <tr>\n",
              "      <th>2</th>\n",
              "      <td>16</td>\n",
              "      <td>1.5</td>\n",
              "      <td>4</td>\n",
              "      <td>5</td>\n",
              "      <td>1</td>\n",
              "      <td>5</td>\n",
              "      <td>6.0</td>\n",
              "      <td>5.8</td>\n",
              "      <td>5.9</td>\n",
              "      <td>48</td>\n",
              "    </tr>\n",
              "    <tr>\n",
              "      <th>3</th>\n",
              "      <td>13</td>\n",
              "      <td>3.5</td>\n",
              "      <td>6</td>\n",
              "      <td>3</td>\n",
              "      <td>23</td>\n",
              "      <td>5</td>\n",
              "      <td>12.7</td>\n",
              "      <td>9.1</td>\n",
              "      <td>11.1</td>\n",
              "      <td>25</td>\n",
              "    </tr>\n",
              "    <tr>\n",
              "      <th>4</th>\n",
              "      <td>13</td>\n",
              "      <td>3.5</td>\n",
              "      <td>6</td>\n",
              "      <td>3</td>\n",
              "      <td>23</td>\n",
              "      <td>5</td>\n",
              "      <td>12.1</td>\n",
              "      <td>8.7</td>\n",
              "      <td>10.6</td>\n",
              "      <td>27</td>\n",
              "    </tr>\n",
              "  </tbody>\n",
              "</table>\n",
              "</div>"
            ],
            "text/plain": [
              "   Vehicle Class  ...  Fuel Consumption Comb (mpg)\n",
              "0             16  ...                           33\n",
              "1             16  ...                           29\n",
              "2             16  ...                           48\n",
              "3             13  ...                           25\n",
              "4             13  ...                           27\n",
              "\n",
              "[5 rows x 10 columns]"
            ]
          },
          "metadata": {},
          "execution_count": 4
        }
      ],
      "metadata": {
        "colab": {
          "base_uri": "https://localhost:8080/",
          "height": 255
        },
        "id": "15cNYaMZgQCm",
        "outputId": "7044b832-f216-4f34-ff27-31acf3054333"
      }
    },
    {
      "cell_type": "markdown",
      "source": [
        "# Feature Selection Using Select From Model"
      ],
      "metadata": {
        "id": "Rz8vnIt0IwCp"
      }
    },
    {
      "cell_type": "code",
      "execution_count": null,
      "source": [
        "print('Useful Features')\r\n",
        "\r\n",
        "m = SelectFromModel(LassoCV())\r\n",
        "\r\n",
        "m.fit(X, y)\r\n",
        "m.transform(X)\r\n",
        "\r\n",
        "i = 0\r\n",
        "for state in m.get_support():\r\n",
        "  if state == True:\r\n",
        "    print(f'- {list(X.columns)[i]} ')\r\n",
        "  i = i + 1"
      ],
      "outputs": [
        {
          "output_type": "stream",
          "name": "stdout",
          "text": [
            "Useful Features\n",
            "- Vehicle Class \n",
            "- Engine Size(L) \n",
            "- Cylinders \n",
            "- Transmission Type \n",
            "- Fuel Type \n",
            "- Fuel Consumption City (L/100 km) \n",
            "- Fuel Consumption Hwy (L/100 km) \n",
            "- Fuel Consumption Comb (L/100 km) \n",
            "- Fuel Consumption Comb (mpg) \n"
          ]
        }
      ],
      "metadata": {
        "id": "5IHFbg6EI2kF",
        "colab": {
          "base_uri": "https://localhost:8080/"
        },
        "outputId": "f2743474-5080-431f-bffb-7bdea1451027"
      }
    },
    {
      "cell_type": "markdown",
      "source": [
        "# Feature Selection Using Variance"
      ],
      "metadata": {
        "id": "UK19CaM4I7cE"
      }
    },
    {
      "cell_type": "code",
      "execution_count": null,
      "source": [
        "print('Useful Features')\r\n",
        "\r\n",
        "sel = VarianceThreshold(threshold=5)\r\n",
        "sel.fit(X)\r\n",
        "sel.transform(X)\r\n",
        "i = 0\r\n",
        "for state in sel.get_support():\r\n",
        "  if state == True:\r\n",
        "    print(f'- {list(X.columns)[i]} ')\r\n",
        "  i = i + 1\r\n",
        "\r\n",
        "fig = plt.figure()\r\n",
        "ax = fig.add_axes([0,0,1,1])\r\n",
        "ax.bar(list(X.columns), list(X.var()))\r\n",
        "plt.setp(ax.get_xticklabels(), rotation='vertical')\r\n",
        "plt.show()"
      ],
      "outputs": [
        {
          "output_type": "stream",
          "name": "stdout",
          "text": [
            "Useful Features\n",
            "- Vehicle Class \n",
            "- Transmission Type \n",
            "- Fuel Consumption City (L/100 km) \n",
            "- Fuel Consumption Comb (L/100 km) \n",
            "- Fuel Consumption Comb (mpg) \n"
          ]
        },
        {
          "output_type": "display_data",
          "data": {
            "image/png": "[encoded data removed]",
            "text/plain": [
              "<Figure size 432x288 with 1 Axes>"
            ]
          },
          "metadata": {
            "needs_background": "light"
          }
        }
      ],
      "metadata": {
        "id": "PJuVcIYcJC-F",
        "colab": {
          "base_uri": "https://localhost:8080/",
          "height": 607
        },
        "outputId": "17f23e62-2e18-4ac4-c059-b7320407216e"
      }
    },
    {
      "cell_type": "markdown",
      "source": [
        "# Feature Selection Using Correlation"
      ],
      "metadata": {
        "id": "rpgWsfEOJWPc"
      }
    },
    {
      "cell_type": "code",
      "execution_count": null,
      "source": [
        "fig_dims = (12, 8)\r\n",
        "fig, ax = plt.subplots(figsize=fig_dims)\r\n",
        "sn.heatmap(data_clean.corr(), ax=ax)\r\n",
        "plt.show()"
      ],
      "outputs": [
        {
          "output_type": "display_data",
          "data": {
            "image/png": "[encoded data removed]",
            "text/plain": [
              "<Figure size 864x576 with 2 Axes>"
            ]
          },
          "metadata": {
            "needs_background": "light"
          }
        }
      ],
      "metadata": {
        "id": "kWApXQ-BJaoO",
        "colab": {
          "base_uri": "https://localhost:8080/",
          "height": 655
        },
        "outputId": "b14b4094-4bbd-41b8-9c3e-c90e400e67e6"
      }
    },
    {
      "cell_type": "code",
      "execution_count": null,
      "source": [
        "abs(data_clean.corr()[\"CO2 Emissions(g/km)\"])"
      ],
      "outputs": [
        {
          "output_type": "execute_result",
          "data": {
            "text/plain": [
              "Make                                0.021389\n",
              "Model                               0.057839\n",
              "Vehicle Class                       0.131831\n",
              "Engine Size(L)                      0.851145\n",
              "Cylinders                           0.832644\n",
              "Transmission                        0.340695\n",
              "Transmission Type                   0.010576\n",
              "Fuel Type                           0.238965\n",
              "Fuel Consumption City (L/100 km)    0.919592\n",
              "Fuel Consumption Hwy (L/100 km)     0.883536\n",
              "Fuel Consumption Comb (L/100 km)    0.918052\n",
              "Fuel Consumption Comb (mpg)         0.907426\n",
              "CO2 Emissions(g/km)                 1.000000\n",
              "Name: CO2 Emissions(g/km), dtype: float64"
            ]
          },
          "metadata": {},
          "execution_count": 8
        }
      ],
      "metadata": {
        "id": "Ywk_aIulT73z",
        "colab": {
          "base_uri": "https://localhost:8080/"
        },
        "outputId": "d3b0f18f-18fe-497a-e727-84c3e573c1d8"
      }
    },
    {
      "cell_type": "code",
      "execution_count": null,
      "source": [
        "print('Useful Features')\r\n",
        "\r\n",
        "for feature in abs(data_clean.corr()[\"CO2 Emissions(g/km)\"][abs(data_clean.corr()[\"CO2 Emissions(g/km)\"])>0.5].drop('CO2 Emissions(g/km)')).index.tolist():\r\n",
        "  print(f'- {feature}')\r\n"
      ],
      "outputs": [
        {
          "output_type": "stream",
          "name": "stdout",
          "text": [
            "Useful Features\n",
            "- Engine Size(L)\n",
            "- Cylinders\n",
            "- Fuel Consumption City (L/100 km)\n",
            "- Fuel Consumption Hwy (L/100 km)\n",
            "- Fuel Consumption Comb (L/100 km)\n",
            "- Fuel Consumption Comb (mpg)\n"
          ]
        }
      ],
      "metadata": {
        "id": "fM89RTlRUI9T",
        "colab": {
          "base_uri": "https://localhost:8080/"
        },
        "outputId": "8863aee8-a4f0-4677-dfde-99a0c765c5ac"
      }
    },
    {
      "cell_type": "markdown",
      "source": [
        "# Predictions"
      ],
      "metadata": {
        "id": "VWI09fUaoidf"
      }
    },
    {
      "cell_type": "code",
      "execution_count": null,
      "source": [
        "# We reomved the features based in feature selection by Correlation\r\n",
        "X = data_clean.drop(columns=['Make', 'Model', 'Vehicle Class', 'Transmission', 'Transmission Type','Fuel Type', 'CO2 Emissions(g/km)'])\r\n",
        "y = data_clean['CO2 Emissions(g/km)']\r\n",
        "\r\n",
        "X.head()"
      ],
      "outputs": [
        {
          "output_type": "execute_result",
          "data": {
            "text/html": [
              "<div>\n",
              "<style scoped>\n",
              "    .dataframe tbody tr th:only-of-type {\n",
              "        vertical-align: middle;\n",
              "    }\n",
              "\n",
              "    .dataframe tbody tr th {\n",
              "        vertical-align: top;\n",
              "    }\n",
              "\n",
              "    .dataframe thead th {\n",
              "        text-align: right;\n",
              "    }\n",
              "</style>\n",
              "<table border=\"1\" class=\"dataframe\">\n",
              "  <thead>\n",
              "    <tr style=\"text-align: right;\">\n",
              "      <th></th>\n",
              "      <th>Engine Size(L)</th>\n",
              "      <th>Cylinders</th>\n",
              "      <th>Fuel Consumption City (L/100 km)</th>\n",
              "      <th>Fuel Consumption Hwy (L/100 km)</th>\n",
              "      <th>Fuel Consumption Comb (L/100 km)</th>\n",
              "      <th>Fuel Consumption Comb (mpg)</th>\n",
              "    </tr>\n",
              "  </thead>\n",
              "  <tbody>\n",
              "    <tr>\n",
              "      <th>0</th>\n",
              "      <td>2.0</td>\n",
              "      <td>4</td>\n",
              "      <td>9.9</td>\n",
              "      <td>6.7</td>\n",
              "      <td>8.5</td>\n",
              "      <td>33</td>\n",
              "    </tr>\n",
              "    <tr>\n",
              "      <th>1</th>\n",
              "      <td>2.4</td>\n",
              "      <td>4</td>\n",
              "      <td>11.2</td>\n",
              "      <td>7.7</td>\n",
              "      <td>9.6</td>\n",
              "      <td>29</td>\n",
              "    </tr>\n",
              "    <tr>\n",
              "      <th>2</th>\n",
              "      <td>1.5</td>\n",
              "      <td>4</td>\n",
              "      <td>6.0</td>\n",
              "      <td>5.8</td>\n",
              "      <td>5.9</td>\n",
              "      <td>48</td>\n",
              "    </tr>\n",
              "    <tr>\n",
              "      <th>3</th>\n",
              "      <td>3.5</td>\n",
              "      <td>6</td>\n",
              "      <td>12.7</td>\n",
              "      <td>9.1</td>\n",
              "      <td>11.1</td>\n",
              "      <td>25</td>\n",
              "    </tr>\n",
              "    <tr>\n",
              "      <th>4</th>\n",
              "      <td>3.5</td>\n",
              "      <td>6</td>\n",
              "      <td>12.1</td>\n",
              "      <td>8.7</td>\n",
              "      <td>10.6</td>\n",
              "      <td>27</td>\n",
              "    </tr>\n",
              "  </tbody>\n",
              "</table>\n",
              "</div>"
            ],
            "text/plain": [
              "   Engine Size(L)  ...  Fuel Consumption Comb (mpg)\n",
              "0             2.0  ...                           33\n",
              "1             2.4  ...                           29\n",
              "2             1.5  ...                           48\n",
              "3             3.5  ...                           25\n",
              "4             3.5  ...                           27\n",
              "\n",
              "[5 rows x 6 columns]"
            ]
          },
          "metadata": {},
          "execution_count": 10
        }
      ],
      "metadata": {
        "id": "_j-32vWsoojX",
        "colab": {
          "base_uri": "https://localhost:8080/",
          "height": 221
        },
        "outputId": "bff77b11-8eee-4923-d8ad-b7f22621ef4b"
      }
    },
    {
      "cell_type": "markdown",
      "source": [
        "# Predicting Emission Using Decision Tree Classifier\n"
      ],
      "metadata": {
        "id": "U7YfP8X1iUm1"
      }
    },
    {
      "cell_type": "code",
      "execution_count": null,
      "source": [
        "model = DecisionTreeClassifier()\r\n",
        "\r\n",
        "# train 100 times until best model is gotten\r\n",
        "best = 0\r\n",
        "for _ in range(100):\r\n",
        "    X_train, X_test, y_train, y_test = train_test_split(X, y, test_size=0.2)\r\n",
        "    model.fit(X_train, y_train)\r\n",
        "\r\n",
        "    score = model.score(X_test, y_test)\r\n",
        "    if score > best :\r\n",
        "        best = score\r\n",
        "        pickle.dump(model, open(\"decision_tree_model.pickle\", \"wb\"))\r\n",
        "\r\n",
        "predictions = model.predict(X_test)\r\n",
        "score = accuracy_score(y_test, predictions)\r\n",
        "\r\n",
        "print(f'Accuracy of the model - {score}')"
      ],
      "outputs": [
        {
          "output_type": "stream",
          "name": "stdout",
          "text": [
            "Accuracy of the model - 0.5429925524712255\n"
          ]
        }
      ],
      "metadata": {
        "id": "yV45YCYPirmx",
        "colab": {
          "base_uri": "https://localhost:8080/"
        },
        "outputId": "f3813be3-4c66-48ad-b3d5-f7233e6e42a9"
      }
    },
    {
      "cell_type": "markdown",
      "source": [
        "# Predicting Emission Using Linear Regression"
      ],
      "metadata": {
        "id": "zHJRrY1ElIiH"
      }
    },
    {
      "cell_type": "code",
      "execution_count": null,
      "source": [
        "# We reomved the features based in feature selection by Correlation\r\n",
        "X = data_clean.drop(columns=['Make', 'Model', 'Vehicle Class', 'Transmission', 'Transmission Type','Fuel Type', 'CO2 Emissions(g/km)'])\r\n",
        "y = data_clean['CO2 Emissions(g/km)']\r\n",
        "\r\n",
        "\r\n",
        "model = LinearRegression()\r\n",
        "\r\n",
        "# train 100 times until best model is gotten\r\n",
        "best = 0\r\n",
        "for _ in range(100):\r\n",
        "    X_train, X_test, y_train, y_test = train_test_split(X, y, test_size=0.2)\r\n",
        "    model.fit(X_train, y_train)\r\n",
        "\r\n",
        "    score = model.score(X_test, y_test)\r\n",
        "    if score > best :\r\n",
        "        best = score\r\n",
        "        pickle.dump(model, open(\"linear_regression_model.pickle\", \"wb\"))\r\n",
        "\r\n",
        "print(f'Accuracy of the model - {best}')"
      ],
      "outputs": [
        {
          "output_type": "stream",
          "name": "stdout",
          "text": [
            "Accuracy of the model - 0.9148843589592187\n"
          ]
        }
      ],
      "metadata": {
        "id": "TrwZJ0_UlpVc",
        "colab": {
          "base_uri": "https://localhost:8080/"
        },
        "outputId": "3f87dfed-3d99-49c8-b247-f174a9a02be0"
      }
    },
    {
      "cell_type": "code",
      "execution_count": null,
      "source": [
        "for feature in list(X.columns):\r\n",
        "  x_value = feature\r\n",
        "  slope, intercept, r, p, std_err = stats.linregress(data[x_value], y)\r\n",
        "\r\n",
        "  def line(x):\r\n",
        "      return slope * x + intercept\r\n",
        "\r\n",
        "  graph_y = list(map(line, data[x_value]))\r\n",
        "  plt.plot(data[x_value], graph_y, label=feature)\r\n",
        "\r\n",
        "plt.legend(loc='center left', bbox_to_anchor=(1, 0.5))\r\n",
        "plt.title('Realtionship between Features and CO2 Emission')\r\n",
        "plt.show()"
      ],
      "outputs": [
        {
          "output_type": "display_data",
          "data": {
            "image/png": "[encoded data removed]",
            "text/plain": [
              "<Figure size 432x288 with 1 Axes>"
            ]
          },
          "metadata": {
            "needs_background": "light"
          }
        }
      ],
      "metadata": {
        "id": "jxlsnvedqR9T",
        "colab": {
          "base_uri": "https://localhost:8080/",
          "height": 281
        },
        "outputId": "7c632a30-9196-491d-9c02-d677a16033a1"
      }
    },
    {
      "cell_type": "markdown",
      "source": [
        "# Predict Emission and Suggest Alternative Car\n"
      ],
      "metadata": {
        "id": "4BAhh7mmvq3n"
      }
    },
    {
      "cell_type": "code",
      "execution_count": null,
      "source": [
        "def suggest_alternative_car(make, model, vehicle_class, engine_size, cylinders, transmission, transmission_type, fuel_type, FC_city,\r\n",
        "                            FC_hwy, FC_comb_L100, FC_comb_mpg):\r\n",
        "  # Predict the emission\r\n",
        "  ml_model = pickle.load(open('linear_regression_model.pickle', 'rb'))\r\n",
        "  X = [[engine_size, cylinders, FC_city, FC_hwy, FC_comb_L100, FC_comb_mpg]]\r\n",
        "  emission = ml_model.predict(X)\r\n",
        "  print(f'Predicted CO2 Emission(g/km) {int(emission[0])} \\n')\r\n",
        "\r\n",
        "  # loops through the dataset to find a different car that emmits less carbon\r\n",
        "  suggest = False\r\n",
        "  for car in data_clean.values.tolist():\r\n",
        "    if car[0] != make and car[1] != model:\r\n",
        "      if car[2] == vehicle_class and car[7] == fuel_type and car[5] == transmission:\r\n",
        "        if car[12] < emission :\r\n",
        "          suggest = True\r\n",
        "          for c, m in make_dict.items():\r\n",
        "            if m == car[0]:\r\n",
        "              print(f'Make - {c}')\r\n",
        "          for c, m in model_dict.items():\r\n",
        "            if m == car[1]:\r\n",
        "              print(f'Model - {c} \\n')\r\n",
        "\r\n",
        "  if suggest == False:\r\n",
        "    print('No alternative car found, You made the right choice : )')\r\n",
        "\r\n",
        "# Test Case\r\n",
        "make = \"ACURA\"\r\n",
        "make = make_dict.get(make, 0)\r\n",
        "model = \"ILX\"\r\n",
        "model = model_dict.get(model, 0)\r\n",
        "vehicle_class = \"COMPACT\"\r\n",
        "vehicle_class = vehicle_class_dict.get(vehicle_class, 0)\r\n",
        "engine_size = 2\r\n",
        "cylinders = 4 \r\n",
        "transmission = \"AS\"\r\n",
        "transmission = transmission_dict.get(transmission, 0)\r\n",
        "transmission_type = \"AS5\"\r\n",
        "transmission_type = transmission_type_dict.get(transmission, 0)\r\n",
        "fuel_type = \"Z\"\r\n",
        "fuel_type = fuel_type_dict.get(fuel_type, 0)\r\n",
        "FC_city = 9.9            \r\n",
        "FC_hwy = 6.7\r\n",
        "FC_comb_L100 = 8.5\r\n",
        "FC_comb_mpg = 33\r\n",
        "\r\n",
        "suggest_alternative_car(make, model, vehicle_class, engine_size, cylinders, transmission, transmission_type, fuel_type, FC_city, FC_hwy, FC_comb_L100, FC_comb_mpg)"
      ],
      "outputs": [
        {
          "output_type": "stream",
          "name": "stdout",
          "text": [
            "Predicted CO2 Emission(g/km) 199 \n",
            "\n",
            "Make - INFINITI\n",
            "Model - Q50 HYBRID \n",
            "\n",
            "Make - INFINITI\n",
            "Model - Q50 HYBRID AWD \n",
            "\n",
            "Make - MERCEDES-BENZ\n",
            "Model - CLA 250 \n",
            "\n",
            "Make - BMW\n",
            "Model - 320i SEDAN \n",
            "\n",
            "Make - BMW\n",
            "Model - 328i SEDAN \n",
            "\n",
            "Make - BMW\n",
            "Model - 428i COUPE \n",
            "\n",
            "Make - INFINITI\n",
            "Model - Q50 HYBRID \n",
            "\n",
            "Make - INFINITI\n",
            "Model - Q50 HYBRID AWD \n",
            "\n",
            "Make - BMW\n",
            "Model - 320i \n",
            "\n",
            "Make - BMW\n",
            "Model - 428i COUPE \n",
            "\n",
            "Make - INFINITI\n",
            "Model - Q50 HYBRID \n",
            "\n",
            "Make - INFINITI\n",
            "Model - Q50 HYBRID AWD \n",
            "\n",
            "Make - MERCEDES-BENZ\n",
            "Model - CLA 250 \n",
            "\n",
            "Make - MERCEDES-BENZ\n",
            "Model - CLA 250 4MATIC FFV \n",
            "\n",
            "Make - MERCEDES-BENZ\n",
            "Model - CLA 250 \n",
            "\n",
            "Make - BMW\n",
            "Model - 340i \n",
            "\n",
            "Make - BMW\n",
            "Model - 440i COUPE \n",
            "\n",
            "Make - BMW\n",
            "Model - 330i xDrive \n",
            "\n",
            "Make - VOLVO\n",
            "Model - S60 T5 \n",
            "\n",
            "Make - BMW\n",
            "Model - 330i xDrive Sedan \n",
            "\n"
          ]
        }
      ],
      "metadata": {
        "colab": {
          "base_uri": "https://localhost:8080/"
        },
        "id": "sggtkdOsv7Wl",
        "outputId": "6daf17f2-9f77-4aa4-9a0b-bb6cc07e5c3a"
      }
    }
  ]
}