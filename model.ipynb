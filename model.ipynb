{
  "nbformat": 4,
  "nbformat_minor": 0,
  "metadata": {
    "language_info": {
      "codemirror_mode": {
        "name": "ipython",
        "version": 3
      },
      "file_extension": ".py",
      "mimetype": "text/x-python",
      "name": "python",
      "nbconvert_exporter": "python",
      "pygments_lexer": "ipython3",
      "version": "3.7.3"
    },
    "orig_nbformat": 2,
    "kernelspec": {
      "name": "python373jvsc74a57bd0396af6e50a654b74e0b907d010e7b4848e686b9ebfbf307dfc966b596db37470",
      "display_name": "Python 3.7.3 64-bit"
    },
    "metadata": {
      "interpreter": {
        "hash": "396af6e50a654b74e0b907d010e7b4848e686b9ebfbf307dfc966b596db37470"
      }
    },
    "colab": {
      "name": "model.ipynb",
      "provenance": [],
      "toc_visible": true
    },
    "accelerator": "GPU"
  },
  "cells": [
    {
      "cell_type": "code",
      "metadata": {
        "id": "thIa5wQKRJ-O"
      },
      "source": [
        "import pandas as pd\n",
        "\n",
        "import io\n",
        "from google.colab import files"
      ],
      "execution_count": 14,
      "outputs": []
    },
    {
      "cell_type": "code",
      "metadata": {
        "id": "xJ2dftwoYGiF"
      },
      "source": [
        "uploaded = files.upload()"
      ],
      "execution_count": null,
      "outputs": []
    },
    {
      "cell_type": "code",
      "metadata": {
        "id": "Ct7DH5tYQLTD",
        "outputId": "d78f4d5f-25f3-41df-d180-1d7acb32bf77",
        "colab": {
          "base_uri": "https://localhost:8080/",
          "height": 272
        }
      },
      "source": [
        "# Load and clean the data\n",
        "data = pd.read_csv(io.BytesIO(uploaded['dataset_CO2_emission_of_cars.csv']))\n",
        "\n",
        "if set(data.all()) == {True} and set(data.all(axis ='columns')) == {True}:\n",
        "  print(\"Data is Complete\")\n",
        "\n",
        "make_dict = {}\n",
        "i = 1\n",
        "for unique_make in set(data['Make']):\n",
        "  make_dict[unique_make] = i\n",
        "  i = i + 1\n",
        "  \n",
        "model_dict = {}\n",
        "i = 1\n",
        "for unique_model in set(data['Model']):\n",
        "  model_dict[unique_model] = i\n",
        "  i = i + 1\n",
        "\n",
        "vehicle_class_dict = {}\n",
        "i = 1\n",
        "for unique_vehicle_class in set(data['Vehicle Class']):\n",
        "  vehicle_class_dict[unique_vehicle_class] = i\n",
        "  i = i + 1\n",
        "\n",
        "transmission_dict = {}\n",
        "i = 1\n",
        "for unique_transmission in set(data['Transmission']):\n",
        "  transmission_dict[unique_transmission] = i\n",
        "  i = i + 1\n",
        "\n",
        "fuel_type_dict = {}\n",
        "i = 1\n",
        "for unique_fuel_type in set(data['Fuel Type']):\n",
        "  fuel_type_dict[unique_fuel_type] = i\n",
        "  i = i + 1\n",
        "\n",
        "data_clean = data\n",
        "data_clean['Make'] = data_clean['Make'].map(make_dict, 0)\n",
        "data_clean['Model'] = data_clean['Model'].map(model_dict, 0)\n",
        "data_clean['Vehicle Class'] = data_clean['Vehicle Class'].map(vehicle_class_dict, 0)\n",
        "data_clean['Transmission'] = data_clean['Transmission'].map(transmission_dict, 0)\n",
        "data_clean['Fuel Type'] = data_clean['Fuel Type'].map(fuel_type_dict, 0)\n",
        "\n",
        "data_clean.head()"
      ],
      "execution_count": 74,
      "outputs": [
        {
          "output_type": "stream",
          "text": [
            "Data is Complete\n"
          ],
          "name": "stdout"
        },
        {
          "output_type": "execute_result",
          "data": {
            "text/html": [
              "<div>\n",
              "<style scoped>\n",
              "    .dataframe tbody tr th:only-of-type {\n",
              "        vertical-align: middle;\n",
              "    }\n",
              "\n",
              "    .dataframe tbody tr th {\n",
              "        vertical-align: top;\n",
              "    }\n",
              "\n",
              "    .dataframe thead th {\n",
              "        text-align: right;\n",
              "    }\n",
              "</style>\n",
              "<table border=\"1\" class=\"dataframe\">\n",
              "  <thead>\n",
              "    <tr style=\"text-align: right;\">\n",
              "      <th></th>\n",
              "      <th>Make</th>\n",
              "      <th>Model</th>\n",
              "      <th>Vehicle Class</th>\n",
              "      <th>Engine Size(L)</th>\n",
              "      <th>Cylinders</th>\n",
              "      <th>Transmission</th>\n",
              "      <th>Fuel Type</th>\n",
              "      <th>Fuel Consumption City (L/100 km)</th>\n",
              "      <th>Fuel Consumption Hwy (L/100 km)</th>\n",
              "      <th>Fuel Consumption Comb (L/100 km)</th>\n",
              "      <th>Fuel Consumption Comb (mpg)</th>\n",
              "      <th>CO2 Emissions(g/km)</th>\n",
              "    </tr>\n",
              "  </thead>\n",
              "  <tbody>\n",
              "    <tr>\n",
              "      <th>0</th>\n",
              "      <td>10</td>\n",
              "      <td>483</td>\n",
              "      <td>1</td>\n",
              "      <td>2.0</td>\n",
              "      <td>4</td>\n",
              "      <td>1</td>\n",
              "      <td>2</td>\n",
              "      <td>9.9</td>\n",
              "      <td>6.7</td>\n",
              "      <td>8.5</td>\n",
              "      <td>33</td>\n",
              "      <td>196</td>\n",
              "    </tr>\n",
              "    <tr>\n",
              "      <th>1</th>\n",
              "      <td>10</td>\n",
              "      <td>483</td>\n",
              "      <td>1</td>\n",
              "      <td>2.4</td>\n",
              "      <td>4</td>\n",
              "      <td>22</td>\n",
              "      <td>2</td>\n",
              "      <td>11.2</td>\n",
              "      <td>7.7</td>\n",
              "      <td>9.6</td>\n",
              "      <td>29</td>\n",
              "      <td>221</td>\n",
              "    </tr>\n",
              "    <tr>\n",
              "      <th>2</th>\n",
              "      <td>10</td>\n",
              "      <td>1538</td>\n",
              "      <td>1</td>\n",
              "      <td>1.5</td>\n",
              "      <td>4</td>\n",
              "      <td>3</td>\n",
              "      <td>2</td>\n",
              "      <td>6.0</td>\n",
              "      <td>5.8</td>\n",
              "      <td>5.9</td>\n",
              "      <td>48</td>\n",
              "      <td>136</td>\n",
              "    </tr>\n",
              "    <tr>\n",
              "      <th>3</th>\n",
              "      <td>10</td>\n",
              "      <td>1869</td>\n",
              "      <td>15</td>\n",
              "      <td>3.5</td>\n",
              "      <td>6</td>\n",
              "      <td>10</td>\n",
              "      <td>2</td>\n",
              "      <td>12.7</td>\n",
              "      <td>9.1</td>\n",
              "      <td>11.1</td>\n",
              "      <td>25</td>\n",
              "      <td>255</td>\n",
              "    </tr>\n",
              "    <tr>\n",
              "      <th>4</th>\n",
              "      <td>10</td>\n",
              "      <td>436</td>\n",
              "      <td>15</td>\n",
              "      <td>3.5</td>\n",
              "      <td>6</td>\n",
              "      <td>10</td>\n",
              "      <td>2</td>\n",
              "      <td>12.1</td>\n",
              "      <td>8.7</td>\n",
              "      <td>10.6</td>\n",
              "      <td>27</td>\n",
              "      <td>244</td>\n",
              "    </tr>\n",
              "  </tbody>\n",
              "</table>\n",
              "</div>"
            ],
            "text/plain": [
              "   Make  Model  ...  Fuel Consumption Comb (mpg)  CO2 Emissions(g/km)\n",
              "0    10    483  ...                           33                  196\n",
              "1    10    483  ...                           29                  221\n",
              "2    10   1538  ...                           48                  136\n",
              "3    10   1869  ...                           25                  255\n",
              "4    10    436  ...                           27                  244\n",
              "\n",
              "[5 rows x 12 columns]"
            ]
          },
          "metadata": {},
          "execution_count": 74
        }
      ]
    },
    {
      "cell_type": "code",
      "metadata": {
        "id": "15cNYaMZgQCm"
      },
      "source": [
        "# Feature Selection\n",
        "\n",
        "# Categorical Variables\n",
        "data_clean['Make'] = data_clean['Make'].astype('category')\n",
        "dum = pd.get_dummies(data_clean.Make)\n",
        "data_clean = data_clean.drop(columns=['Make']).merge(dum, left_index=True, right_index=True)\n",
        "\n",
        "X = data_clean.drop(columns='CO2 Emissions(g/km)')\n",
        "Y = data_clean['CO2 Emissions(g/km)']"
      ],
      "execution_count": 76,
      "outputs": []
    }
  ]
}