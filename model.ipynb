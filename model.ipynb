{
  "nbformat": 4,
  "nbformat_minor": 0,
  "metadata": {
    "language_info": {
      "codemirror_mode": {
        "name": "ipython",
        "version": 3
      },
      "file_extension": ".py",
      "mimetype": "text/x-python",
      "name": "python",
      "nbconvert_exporter": "python",
      "pygments_lexer": "ipython3",
      "version": "3.7.3"
    },
    "orig_nbformat": 2,
    "kernelspec": {
      "name": "python373jvsc74a57bd0396af6e50a654b74e0b907d010e7b4848e686b9ebfbf307dfc966b596db37470",
      "display_name": "Python 3.7.3 64-bit"
    },
    "metadata": {
      "interpreter": {
        "hash": "396af6e50a654b74e0b907d010e7b4848e686b9ebfbf307dfc966b596db37470"
      }
    },
    "colab": {
      "name": "model.ipynb",
      "provenance": []
    },
    "accelerator": "GPU"
  },
  "cells": [
    {
      "cell_type": "markdown",
      "metadata": {
        "id": "drhXUzoxsrLt"
      },
      "source": [
        "# Import Statements"
      ]
    },
    {
      "cell_type": "code",
      "metadata": {
        "id": "thIa5wQKRJ-O"
      },
      "source": [
        "import pandas as pd\n",
        "\n",
        "import numpy as np\n",
        "\n",
        "from sklearn.feature_selection import VarianceThreshold\n",
        "from sklearn.linear_model import LassoCV\n",
        "from sklearn.feature_selection import SelectFromModel\n",
        "from sklearn.tree import DecisionTreeClassifier\n",
        "from sklearn.linear_model import LinearRegression\n",
        "from sklearn.model_selection import train_test_split\n",
        "from sklearn.metrics import accuracy_score\n",
        "\n",
        "import pickle\n",
        "\n",
        "from scipy import stats\n",
        "\n",
        "import seaborn as sn\n",
        "import matplotlib.pyplot as plt\n",
        "\n",
        "import io\n",
        "from google.colab import files"
      ],
      "execution_count": 24,
      "outputs": []
    },
    {
      "cell_type": "markdown",
      "metadata": {
        "id": "66gHKet0sw8W"
      },
      "source": [
        "# Loading and Cleaning the data"
      ]
    },
    {
      "cell_type": "code",
      "metadata": {
        "colab": {
          "resources": {
            "http://localhost:8080/nbextensions/google.colab/files.js": {
              "data": "Ly8gQ29weXJpZ2h0IDIwMTcgR29vZ2xlIExMQwovLwovLyBMaWNlbnNlZCB1bmRlciB0aGUgQXBhY2hlIExpY2Vuc2UsIFZlcnNpb24gMi4wICh0aGUgIkxpY2Vuc2UiKTsKLy8geW91IG1heSBub3QgdXNlIHRoaXMgZmlsZSBleGNlcHQgaW4gY29tcGxpYW5jZSB3aXRoIHRoZSBMaWNlbnNlLgovLyBZb3UgbWF5IG9idGFpbiBhIGNvcHkgb2YgdGhlIExpY2Vuc2UgYXQKLy8KLy8gICAgICBodHRwOi8vd3d3LmFwYWNoZS5vcmcvbGljZW5zZXMvTElDRU5TRS0yLjAKLy8KLy8gVW5sZXNzIHJlcXVpcmVkIGJ5IGFwcGxpY2FibGUgbGF3IG9yIGFncmVlZCB0byBpbiB3cml0aW5nLCBzb2Z0d2FyZQovLyBkaXN0cmlidXRlZCB1bmRlciB0aGUgTGljZW5zZSBpcyBkaXN0cmlidXRlZCBvbiBhbiAiQVMgSVMiIEJBU0lTLAovLyBXSVRIT1VUIFdBUlJBTlRJRVMgT1IgQ09ORElUSU9OUyBPRiBBTlkgS0lORCwgZWl0aGVyIGV4cHJlc3Mgb3IgaW1wbGllZC4KLy8gU2VlIHRoZSBMaWNlbnNlIGZvciB0aGUgc3BlY2lmaWMgbGFuZ3VhZ2UgZ292ZXJuaW5nIHBlcm1pc3Npb25zIGFuZAovLyBsaW1pdGF0aW9ucyB1bmRlciB0aGUgTGljZW5zZS4KCi8qKgogKiBAZmlsZW92ZXJ2aWV3IEhlbHBlcnMgZm9yIGdvb2dsZS5jb2xhYiBQeXRob24gbW9kdWxlLgogKi8KKGZ1bmN0aW9uKHNjb3BlKSB7CmZ1bmN0aW9uIHNwYW4odGV4dCwgc3R5bGVBdHRyaWJ1dGVzID0ge30pIHsKICBjb25zdCBlbGVtZW50ID0gZG9jdW1lbnQuY3JlYXRlRWxlbWVudCgnc3BhbicpOwogIGVsZW1lbnQudGV4dENvbnRlbnQgPSB0ZXh0OwogIGZvciAoY29uc3Qga2V5IG9mIE9iamVjdC5rZXlzKHN0eWxlQXR0cmlidXRlcykpIHsKICAgIGVsZW1lbnQuc3R5bGVba2V5XSA9IHN0eWxlQXR0cmlidXRlc1trZXldOwogIH0KICByZXR1cm4gZWxlbWVudDsKfQoKLy8gTWF4IG51bWJlciBvZiBieXRlcyB3aGljaCB3aWxsIGJlIHVwbG9hZGVkIGF0IGEgdGltZS4KY29uc3QgTUFYX1BBWUxPQURfU0laRSA9IDEwMCAqIDEwMjQ7CgpmdW5jdGlvbiBfdXBsb2FkRmlsZXMoaW5wdXRJZCwgb3V0cHV0SWQpIHsKICBjb25zdCBzdGVwcyA9IHVwbG9hZEZpbGVzU3RlcChpbnB1dElkLCBvdXRwdXRJZCk7CiAgY29uc3Qgb3V0cHV0RWxlbWVudCA9IGRvY3VtZW50LmdldEVsZW1lbnRCeUlkKG91dHB1dElkKTsKICAvLyBDYWNoZSBzdGVwcyBvbiB0aGUgb3V0cHV0RWxlbWVudCB0byBtYWtlIGl0IGF2YWlsYWJsZSBmb3IgdGhlIG5leHQgY2FsbAogIC8vIHRvIHVwbG9hZEZpbGVzQ29udGludWUgZnJvbSBQeXRob24uCiAgb3V0cHV0RWxlbWVudC5zdGVwcyA9IHN0ZXBzOwoKICByZXR1cm4gX3VwbG9hZEZpbGVzQ29udGludWUob3V0cHV0SWQpOwp9CgovLyBUaGlzIGlzIHJvdWdobHkgYW4gYXN5bmMgZ2VuZXJhdG9yIChub3Qgc3VwcG9ydGVkIGluIHRoZSBicm93c2VyIHlldCksCi8vIHdoZXJlIHRoZXJlIGFyZSBtdWx0aXBsZSBhc3luY2hyb25vdXMgc3RlcHMgYW5kIHRoZSBQeXRob24gc2lkZSBpcyBnb2luZwovLyB0byBwb2xsIGZvciBjb21wbGV0aW9uIG9mIGVhY2ggc3RlcC4KLy8gVGhpcyB1c2VzIGEgUHJvbWlzZSB0byBibG9jayB0aGUgcHl0aG9uIHNpZGUgb24gY29tcGxldGlvbiBvZiBlYWNoIHN0ZXAsCi8vIHRoZW4gcGFzc2VzIHRoZSByZXN1bHQgb2YgdGhlIHByZXZpb3VzIHN0ZXAgYXMgdGhlIGlucHV0IHRvIHRoZSBuZXh0IHN0ZXAuCmZ1bmN0aW9uIF91cGxvYWRGaWxlc0NvbnRpbnVlKG91dHB1dElkKSB7CiAgY29uc3Qgb3V0cHV0RWxlbWVudCA9IGRvY3VtZW50LmdldEVsZW1lbnRCeUlkKG91dHB1dElkKTsKICBjb25zdCBzdGVwcyA9IG91dHB1dEVsZW1lbnQuc3RlcHM7CgogIGNvbnN0IG5leHQgPSBzdGVwcy5uZXh0KG91dHB1dEVsZW1lbnQubGFzdFByb21pc2VWYWx1ZSk7CiAgcmV0dXJuIFByb21pc2UucmVzb2x2ZShuZXh0LnZhbHVlLnByb21pc2UpLnRoZW4oKHZhbHVlKSA9PiB7CiAgICAvLyBDYWNoZSB0aGUgbGFzdCBwcm9taXNlIHZhbHVlIHRvIG1ha2UgaXQgYXZhaWxhYmxlIHRvIHRoZSBuZXh0CiAgICAvLyBzdGVwIG9mIHRoZSBnZW5lcmF0b3IuCiAgICBvdXRwdXRFbGVtZW50Lmxhc3RQcm9taXNlVmFsdWUgPSB2YWx1ZTsKICAgIHJldHVybiBuZXh0LnZhbHVlLnJlc3BvbnNlOwogIH0pOwp9CgovKioKICogR2VuZXJhdG9yIGZ1bmN0aW9uIHdoaWNoIGlzIGNhbGxlZCBiZXR3ZWVuIGVhY2ggYXN5bmMgc3RlcCBvZiB0aGUgdXBsb2FkCiAqIHByb2Nlc3MuCiAqIEBwYXJhbSB7c3RyaW5nfSBpbnB1dElkIEVsZW1lbnQgSUQgb2YgdGhlIGlucHV0IGZpbGUgcGlja2VyIGVsZW1lbnQuCiAqIEBwYXJhbSB7c3RyaW5nfSBvdXRwdXRJZCBFbGVtZW50IElEIG9mIHRoZSBvdXRwdXQgZGlzcGxheS4KICogQHJldHVybiB7IUl0ZXJhYmxlPCFPYmplY3Q+fSBJdGVyYWJsZSBvZiBuZXh0IHN0ZXBzLgogKi8KZnVuY3Rpb24qIHVwbG9hZEZpbGVzU3RlcChpbnB1dElkLCBvdXRwdXRJZCkgewogIGNvbnN0IGlucHV0RWxlbWVudCA9IGRvY3VtZW50LmdldEVsZW1lbnRCeUlkKGlucHV0SWQpOwogIGlucHV0RWxlbWVudC5kaXNhYmxlZCA9IGZhbHNlOwoKICBjb25zdCBvdXRwdXRFbGVtZW50ID0gZG9jdW1lbnQuZ2V0RWxlbWVudEJ5SWQob3V0cHV0SWQpOwogIG91dHB1dEVsZW1lbnQuaW5uZXJIVE1MID0gJyc7CgogIGNvbnN0IHBpY2tlZFByb21pc2UgPSBuZXcgUHJvbWlzZSgocmVzb2x2ZSkgPT4gewogICAgaW5wdXRFbGVtZW50LmFkZEV2ZW50TGlzdGVuZXIoJ2NoYW5nZScsIChlKSA9PiB7CiAgICAgIHJlc29sdmUoZS50YXJnZXQuZmlsZXMpOwogICAgfSk7CiAgfSk7CgogIGNvbnN0IGNhbmNlbCA9IGRvY3VtZW50LmNyZWF0ZUVsZW1lbnQoJ2J1dHRvbicpOwogIGlucHV0RWxlbWVudC5wYXJlbnRFbGVtZW50LmFwcGVuZENoaWxkKGNhbmNlbCk7CiAgY2FuY2VsLnRleHRDb250ZW50ID0gJ0NhbmNlbCB1cGxvYWQnOwogIGNvbnN0IGNhbmNlbFByb21pc2UgPSBuZXcgUHJvbWlzZSgocmVzb2x2ZSkgPT4gewogICAgY2FuY2VsLm9uY2xpY2sgPSAoKSA9PiB7CiAgICAgIHJlc29sdmUobnVsbCk7CiAgICB9OwogIH0pOwoKICAvLyBXYWl0IGZvciB0aGUgdXNlciB0byBwaWNrIHRoZSBmaWxlcy4KICBjb25zdCBmaWxlcyA9IHlpZWxkIHsKICAgIHByb21pc2U6IFByb21pc2UucmFjZShbcGlja2VkUHJvbWlzZSwgY2FuY2VsUHJvbWlzZV0pLAogICAgcmVzcG9uc2U6IHsKICAgICAgYWN0aW9uOiAnc3RhcnRpbmcnLAogICAgfQogIH07CgogIGNhbmNlbC5yZW1vdmUoKTsKCiAgLy8gRGlzYWJsZSB0aGUgaW5wdXQgZWxlbWVudCBzaW5jZSBmdXJ0aGVyIHBpY2tzIGFyZSBub3QgYWxsb3dlZC4KICBpbnB1dEVsZW1lbnQuZGlzYWJsZWQgPSB0cnVlOwoKICBpZiAoIWZpbGVzKSB7CiAgICByZXR1cm4gewogICAgICByZXNwb25zZTogewogICAgICAgIGFjdGlvbjogJ2NvbXBsZXRlJywKICAgICAgfQogICAgfTsKICB9CgogIGZvciAoY29uc3QgZmlsZSBvZiBmaWxlcykgewogICAgY29uc3QgbGkgPSBkb2N1bWVudC5jcmVhdGVFbGVtZW50KCdsaScpOwogICAgbGkuYXBwZW5kKHNwYW4oZmlsZS5uYW1lLCB7Zm9udFdlaWdodDogJ2JvbGQnfSkpOwogICAgbGkuYXBwZW5kKHNwYW4oCiAgICAgICAgYCgke2ZpbGUudHlwZSB8fCAnbi9hJ30pIC0gJHtmaWxlLnNpemV9IGJ5dGVzLCBgICsKICAgICAgICBgbGFzdCBtb2RpZmllZDogJHsKICAgICAgICAgICAgZmlsZS5sYXN0TW9kaWZpZWREYXRlID8gZmlsZS5sYXN0TW9kaWZpZWREYXRlLnRvTG9jYWxlRGF0ZVN0cmluZygpIDoKICAgICAgICAgICAgICAgICAgICAgICAgICAgICAgICAgICAgJ24vYSd9IC0gYCkpOwogICAgY29uc3QgcGVyY2VudCA9IHNwYW4oJzAlIGRvbmUnKTsKICAgIGxpLmFwcGVuZENoaWxkKHBlcmNlbnQpOwoKICAgIG91dHB1dEVsZW1lbnQuYXBwZW5kQ2hpbGQobGkpOwoKICAgIGNvbnN0IGZpbGVEYXRhUHJvbWlzZSA9IG5ldyBQcm9taXNlKChyZXNvbHZlKSA9PiB7CiAgICAgIGNvbnN0IHJlYWRlciA9IG5ldyBGaWxlUmVhZGVyKCk7CiAgICAgIHJlYWRlci5vbmxvYWQgPSAoZSkgPT4gewogICAgICAgIHJlc29sdmUoZS50YXJnZXQucmVzdWx0KTsKICAgICAgfTsKICAgICAgcmVhZGVyLnJlYWRBc0FycmF5QnVmZmVyKGZpbGUpOwogICAgfSk7CiAgICAvLyBXYWl0IGZvciB0aGUgZGF0YSB0byBiZSByZWFkeS4KICAgIGxldCBmaWxlRGF0YSA9IHlpZWxkIHsKICAgICAgcHJvbWlzZTogZmlsZURhdGFQcm9taXNlLAogICAgICByZXNwb25zZTogewogICAgICAgIGFjdGlvbjogJ2NvbnRpbnVlJywKICAgICAgfQogICAgfTsKCiAgICAvLyBVc2UgYSBjaHVua2VkIHNlbmRpbmcgdG8gYXZvaWQgbWVzc2FnZSBzaXplIGxpbWl0cy4gU2VlIGIvNjIxMTU2NjAuCiAgICBsZXQgcG9zaXRpb24gPSAwOwogICAgZG8gewogICAgICBjb25zdCBsZW5ndGggPSBNYXRoLm1pbihmaWxlRGF0YS5ieXRlTGVuZ3RoIC0gcG9zaXRpb24sIE1BWF9QQVlMT0FEX1NJWkUpOwogICAgICBjb25zdCBjaHVuayA9IG5ldyBVaW50OEFycmF5KGZpbGVEYXRhLCBwb3NpdGlvbiwgbGVuZ3RoKTsKICAgICAgcG9zaXRpb24gKz0gbGVuZ3RoOwoKICAgICAgY29uc3QgYmFzZTY0ID0gYnRvYShTdHJpbmcuZnJvbUNoYXJDb2RlLmFwcGx5KG51bGwsIGNodW5rKSk7CiAgICAgIHlpZWxkIHsKICAgICAgICByZXNwb25zZTogewogICAgICAgICAgYWN0aW9uOiAnYXBwZW5kJywKICAgICAgICAgIGZpbGU6IGZpbGUubmFtZSwKICAgICAgICAgIGRhdGE6IGJhc2U2NCwKICAgICAgICB9LAogICAgICB9OwoKICAgICAgbGV0IHBlcmNlbnREb25lID0gZmlsZURhdGEuYnl0ZUxlbmd0aCA9PT0gMCA/CiAgICAgICAgICAxMDAgOgogICAgICAgICAgTWF0aC5yb3VuZCgocG9zaXRpb24gLyBmaWxlRGF0YS5ieXRlTGVuZ3RoKSAqIDEwMCk7CiAgICAgIHBlcmNlbnQudGV4dENvbnRlbnQgPSBgJHtwZXJjZW50RG9uZX0lIGRvbmVgOwoKICAgIH0gd2hpbGUgKHBvc2l0aW9uIDwgZmlsZURhdGEuYnl0ZUxlbmd0aCk7CiAgfQoKICAvLyBBbGwgZG9uZS4KICB5aWVsZCB7CiAgICByZXNwb25zZTogewogICAgICBhY3Rpb246ICdjb21wbGV0ZScsCiAgICB9CiAgfTsKfQoKc2NvcGUuZ29vZ2xlID0gc2NvcGUuZ29vZ2xlIHx8IHt9OwpzY29wZS5nb29nbGUuY29sYWIgPSBzY29wZS5nb29nbGUuY29sYWIgfHwge307CnNjb3BlLmdvb2dsZS5jb2xhYi5fZmlsZXMgPSB7CiAgX3VwbG9hZEZpbGVzLAogIF91cGxvYWRGaWxlc0NvbnRpbnVlLAp9Owp9KShzZWxmKTsK",
              "ok": true,
              "headers": [
                [
                  "content-type",
                  "application/javascript"
                ]
              ],
              "status": 200,
              "status_text": ""
            }
          },
          "base_uri": "https://localhost:8080/",
          "height": 72
        },
        "id": "xJ2dftwoYGiF",
        "outputId": "3e5a762a-ead3-45dd-c60a-17583feb45e0"
      },
      "source": [
        "uploaded = files.upload()"
      ],
      "execution_count": 3,
      "outputs": [
        {
          "output_type": "display_data",
          "data": {
            "text/html": [
              "\n",
              "     <input type=\"file\" id=\"files-4e7af1b8-08fe-4776-9554-a817c263c04e\" name=\"files[]\" multiple disabled\n",
              "        style=\"border:none\" />\n",
              "     <output id=\"result-4e7af1b8-08fe-4776-9554-a817c263c04e\">\n",
              "      Upload widget is only available when the cell has been executed in the\n",
              "      current browser session. Please rerun this cell to enable.\n",
              "      </output>\n",
              "      <script src=\"/nbextensions/google.colab/files.js\"></script> "
            ],
            "text/plain": [
              "<IPython.core.display.HTML object>"
            ]
          },
          "metadata": {}
        },
        {
          "output_type": "stream",
          "text": [
            "Saving dataset_CO2_emission_of_cars.csv to dataset_CO2_emission_of_cars.csv\n"
          ],
          "name": "stdout"
        }
      ]
    },
    {
      "cell_type": "code",
      "metadata": {
        "colab": {
          "base_uri": "https://localhost:8080/",
          "height": 272
        },
        "id": "Ct7DH5tYQLTD",
        "outputId": "0b006133-a7cb-4c0a-9b31-62d98f65cef1"
      },
      "source": [
        "# Load and clean the data\n",
        "data = pd.read_csv(io.BytesIO(uploaded['dataset_CO2_emission_of_cars.csv']))\n",
        "\n",
        "if set(data.all()) == {True} and set(data.all(axis ='columns')) == {True}:\n",
        "  print(\"Data is Complete\")\n",
        "\n",
        "make_dict = {}\n",
        "i = 1\n",
        "for unique_make in set(data['Make']):\n",
        "  make_dict[unique_make] = i\n",
        "  i = i + 1\n",
        "  \n",
        "model_dict = {}\n",
        "i = 1\n",
        "for unique_model in set(data['Model']):\n",
        "  model_dict[unique_model] = i\n",
        "  i = i + 1\n",
        "\n",
        "vehicle_class_dict = {}\n",
        "i = 1\n",
        "for unique_vehicle_class in set(data['Vehicle Class']):\n",
        "  vehicle_class_dict[unique_vehicle_class] = i\n",
        "  i = i + 1\n",
        "\n",
        "transmission_dict = {}\n",
        "i = 1\n",
        "for unique_transmission in set(data['Transmission']):\n",
        "  transmission_dict[unique_transmission] = i\n",
        "  i = i + 1\n",
        "\n",
        "fuel_type_dict = {}\n",
        "i = 1\n",
        "for unique_fuel_type in set(data['Fuel Type']):\n",
        "  fuel_type_dict[unique_fuel_type] = i\n",
        "  i = i + 1\n",
        "\n",
        "data_clean = data\n",
        "data_clean['Make'] = data_clean['Make'].map(make_dict, 0)\n",
        "data_clean['Model'] = data_clean['Model'].map(model_dict, 0)\n",
        "data_clean['Vehicle Class'] = data_clean['Vehicle Class'].map(vehicle_class_dict, 0)\n",
        "data_clean['Transmission'] = data_clean['Transmission'].map(transmission_dict, 0)\n",
        "data_clean['Fuel Type'] = data_clean['Fuel Type'].map(fuel_type_dict, 0)\n",
        "\n",
        "data_clean.head()"
      ],
      "execution_count": 4,
      "outputs": [
        {
          "output_type": "stream",
          "text": [
            "Data is Complete\n"
          ],
          "name": "stdout"
        },
        {
          "output_type": "execute_result",
          "data": {
            "text/html": [
              "<div>\n",
              "<style scoped>\n",
              "    .dataframe tbody tr th:only-of-type {\n",
              "        vertical-align: middle;\n",
              "    }\n",
              "\n",
              "    .dataframe tbody tr th {\n",
              "        vertical-align: top;\n",
              "    }\n",
              "\n",
              "    .dataframe thead th {\n",
              "        text-align: right;\n",
              "    }\n",
              "</style>\n",
              "<table border=\"1\" class=\"dataframe\">\n",
              "  <thead>\n",
              "    <tr style=\"text-align: right;\">\n",
              "      <th></th>\n",
              "      <th>Make</th>\n",
              "      <th>Model</th>\n",
              "      <th>Vehicle Class</th>\n",
              "      <th>Engine Size(L)</th>\n",
              "      <th>Cylinders</th>\n",
              "      <th>Transmission</th>\n",
              "      <th>Fuel Type</th>\n",
              "      <th>Fuel Consumption City (L/100 km)</th>\n",
              "      <th>Fuel Consumption Hwy (L/100 km)</th>\n",
              "      <th>Fuel Consumption Comb (L/100 km)</th>\n",
              "      <th>Fuel Consumption Comb (mpg)</th>\n",
              "      <th>CO2 Emissions(g/km)</th>\n",
              "    </tr>\n",
              "  </thead>\n",
              "  <tbody>\n",
              "    <tr>\n",
              "      <th>0</th>\n",
              "      <td>36</td>\n",
              "      <td>2017</td>\n",
              "      <td>9</td>\n",
              "      <td>2.0</td>\n",
              "      <td>4</td>\n",
              "      <td>11</td>\n",
              "      <td>3</td>\n",
              "      <td>9.9</td>\n",
              "      <td>6.7</td>\n",
              "      <td>8.5</td>\n",
              "      <td>33</td>\n",
              "      <td>196</td>\n",
              "    </tr>\n",
              "    <tr>\n",
              "      <th>1</th>\n",
              "      <td>36</td>\n",
              "      <td>2017</td>\n",
              "      <td>9</td>\n",
              "      <td>2.4</td>\n",
              "      <td>4</td>\n",
              "      <td>24</td>\n",
              "      <td>3</td>\n",
              "      <td>11.2</td>\n",
              "      <td>7.7</td>\n",
              "      <td>9.6</td>\n",
              "      <td>29</td>\n",
              "      <td>221</td>\n",
              "    </tr>\n",
              "    <tr>\n",
              "      <th>2</th>\n",
              "      <td>36</td>\n",
              "      <td>62</td>\n",
              "      <td>9</td>\n",
              "      <td>1.5</td>\n",
              "      <td>4</td>\n",
              "      <td>7</td>\n",
              "      <td>3</td>\n",
              "      <td>6.0</td>\n",
              "      <td>5.8</td>\n",
              "      <td>5.9</td>\n",
              "      <td>48</td>\n",
              "      <td>136</td>\n",
              "    </tr>\n",
              "    <tr>\n",
              "      <th>3</th>\n",
              "      <td>36</td>\n",
              "      <td>566</td>\n",
              "      <td>2</td>\n",
              "      <td>3.5</td>\n",
              "      <td>6</td>\n",
              "      <td>19</td>\n",
              "      <td>3</td>\n",
              "      <td>12.7</td>\n",
              "      <td>9.1</td>\n",
              "      <td>11.1</td>\n",
              "      <td>25</td>\n",
              "      <td>255</td>\n",
              "    </tr>\n",
              "    <tr>\n",
              "      <th>4</th>\n",
              "      <td>36</td>\n",
              "      <td>2001</td>\n",
              "      <td>2</td>\n",
              "      <td>3.5</td>\n",
              "      <td>6</td>\n",
              "      <td>19</td>\n",
              "      <td>3</td>\n",
              "      <td>12.1</td>\n",
              "      <td>8.7</td>\n",
              "      <td>10.6</td>\n",
              "      <td>27</td>\n",
              "      <td>244</td>\n",
              "    </tr>\n",
              "  </tbody>\n",
              "</table>\n",
              "</div>"
            ],
            "text/plain": [
              "   Make  Model  ...  Fuel Consumption Comb (mpg)  CO2 Emissions(g/km)\n",
              "0    36   2017  ...                           33                  196\n",
              "1    36   2017  ...                           29                  221\n",
              "2    36     62  ...                           48                  136\n",
              "3    36    566  ...                           25                  255\n",
              "4    36   2001  ...                           27                  244\n",
              "\n",
              "[5 rows x 12 columns]"
            ]
          },
          "metadata": {},
          "execution_count": 4
        }
      ]
    },
    {
      "cell_type": "markdown",
      "metadata": {
        "id": "Fbdxvjaise4L"
      },
      "source": [
        "# Feature Selection"
      ]
    },
    {
      "cell_type": "code",
      "metadata": {
        "colab": {
          "base_uri": "https://localhost:8080/",
          "height": 238
        },
        "id": "15cNYaMZgQCm",
        "outputId": "34c6e961-0558-48a8-b20e-00dfe564b616"
      },
      "source": [
        "X = data_clean.drop(columns=['Make', 'Model', 'CO2 Emissions(g/km)'])\n",
        "y = data_clean['CO2 Emissions(g/km)']\n",
        "\n",
        "X.head()"
      ],
      "execution_count": 11,
      "outputs": [
        {
          "output_type": "execute_result",
          "data": {
            "text/html": [
              "<div>\n",
              "<style scoped>\n",
              "    .dataframe tbody tr th:only-of-type {\n",
              "        vertical-align: middle;\n",
              "    }\n",
              "\n",
              "    .dataframe tbody tr th {\n",
              "        vertical-align: top;\n",
              "    }\n",
              "\n",
              "    .dataframe thead th {\n",
              "        text-align: right;\n",
              "    }\n",
              "</style>\n",
              "<table border=\"1\" class=\"dataframe\">\n",
              "  <thead>\n",
              "    <tr style=\"text-align: right;\">\n",
              "      <th></th>\n",
              "      <th>Vehicle Class</th>\n",
              "      <th>Engine Size(L)</th>\n",
              "      <th>Cylinders</th>\n",
              "      <th>Transmission</th>\n",
              "      <th>Fuel Type</th>\n",
              "      <th>Fuel Consumption City (L/100 km)</th>\n",
              "      <th>Fuel Consumption Hwy (L/100 km)</th>\n",
              "      <th>Fuel Consumption Comb (L/100 km)</th>\n",
              "      <th>Fuel Consumption Comb (mpg)</th>\n",
              "    </tr>\n",
              "  </thead>\n",
              "  <tbody>\n",
              "    <tr>\n",
              "      <th>0</th>\n",
              "      <td>9</td>\n",
              "      <td>2.0</td>\n",
              "      <td>4</td>\n",
              "      <td>11</td>\n",
              "      <td>3</td>\n",
              "      <td>9.9</td>\n",
              "      <td>6.7</td>\n",
              "      <td>8.5</td>\n",
              "      <td>33</td>\n",
              "    </tr>\n",
              "    <tr>\n",
              "      <th>1</th>\n",
              "      <td>9</td>\n",
              "      <td>2.4</td>\n",
              "      <td>4</td>\n",
              "      <td>24</td>\n",
              "      <td>3</td>\n",
              "      <td>11.2</td>\n",
              "      <td>7.7</td>\n",
              "      <td>9.6</td>\n",
              "      <td>29</td>\n",
              "    </tr>\n",
              "    <tr>\n",
              "      <th>2</th>\n",
              "      <td>9</td>\n",
              "      <td>1.5</td>\n",
              "      <td>4</td>\n",
              "      <td>7</td>\n",
              "      <td>3</td>\n",
              "      <td>6.0</td>\n",
              "      <td>5.8</td>\n",
              "      <td>5.9</td>\n",
              "      <td>48</td>\n",
              "    </tr>\n",
              "    <tr>\n",
              "      <th>3</th>\n",
              "      <td>2</td>\n",
              "      <td>3.5</td>\n",
              "      <td>6</td>\n",
              "      <td>19</td>\n",
              "      <td>3</td>\n",
              "      <td>12.7</td>\n",
              "      <td>9.1</td>\n",
              "      <td>11.1</td>\n",
              "      <td>25</td>\n",
              "    </tr>\n",
              "    <tr>\n",
              "      <th>4</th>\n",
              "      <td>2</td>\n",
              "      <td>3.5</td>\n",
              "      <td>6</td>\n",
              "      <td>19</td>\n",
              "      <td>3</td>\n",
              "      <td>12.1</td>\n",
              "      <td>8.7</td>\n",
              "      <td>10.6</td>\n",
              "      <td>27</td>\n",
              "    </tr>\n",
              "  </tbody>\n",
              "</table>\n",
              "</div>"
            ],
            "text/plain": [
              "   Vehicle Class  ...  Fuel Consumption Comb (mpg)\n",
              "0              9  ...                           33\n",
              "1              9  ...                           29\n",
              "2              9  ...                           48\n",
              "3              2  ...                           25\n",
              "4              2  ...                           27\n",
              "\n",
              "[5 rows x 9 columns]"
            ]
          },
          "metadata": {},
          "execution_count": 11
        }
      ]
    },
    {
      "cell_type": "markdown",
      "metadata": {
        "id": "Rz8vnIt0IwCp"
      },
      "source": [
        "# Feature Selection Using Select From Model"
      ]
    },
    {
      "cell_type": "code",
      "metadata": {
        "id": "5IHFbg6EI2kF",
        "colab": {
          "base_uri": "https://localhost:8080/"
        },
        "outputId": "ff394c2b-6537-4dbc-9be5-01889b6f4ea6"
      },
      "source": [
        "print('Useful Features')\n",
        "\n",
        "m = SelectFromModel(LassoCV())\n",
        "\n",
        "m.fit(X, y)\n",
        "m.transform(X)\n",
        "\n",
        "i = 0\n",
        "for state in m.get_support():\n",
        "  if state == True:\n",
        "    print(f'- {list(X.columns)[i]} ')\n",
        "  i = i + 1"
      ],
      "execution_count": null,
      "outputs": [
        {
          "output_type": "stream",
          "text": [
            "Useful Features\n",
            "- Vehicle Class \n",
            "- Engine Size(L) \n",
            "- Cylinders \n",
            "- Transmission \n",
            "- Fuel Type \n",
            "- Fuel Consumption City (L/100 km) \n",
            "- Fuel Consumption Hwy (L/100 km) \n",
            "- Fuel Consumption Comb (L/100 km) \n",
            "- Fuel Consumption Comb (mpg) \n"
          ],
          "name": "stdout"
        }
      ]
    },
    {
      "cell_type": "markdown",
      "metadata": {
        "id": "UK19CaM4I7cE"
      },
      "source": [
        "# Feature Selection Using Variance"
      ]
    },
    {
      "cell_type": "code",
      "metadata": {
        "id": "PJuVcIYcJC-F",
        "colab": {
          "base_uri": "https://localhost:8080/",
          "height": 607
        },
        "outputId": "49d72167-dfb7-44c1-851b-455e6be6c2dc"
      },
      "source": [
        "print('Useful Features')\n",
        "\n",
        "sel = VarianceThreshold(threshold=5)\n",
        "sel.fit(X)\n",
        "sel.transform(X)\n",
        "i = 0\n",
        "for state in sel.get_support():\n",
        "  if state == True:\n",
        "    print(f'- {list(X.columns)[i]} ')\n",
        "  i = i + 1\n",
        "\n",
        "fig = plt.figure()\n",
        "ax = fig.add_axes([0,0,1,1])\n",
        "ax.bar(list(X.columns), list(X.var()))\n",
        "plt.setp(ax.get_xticklabels(), rotation='vertical')\n",
        "plt.show()"
      ],
      "execution_count": null,
      "outputs": [
        {
          "output_type": "stream",
          "text": [
            "Useful Features\n",
            "- Vehicle Class \n",
            "- Transmission \n",
            "- Fuel Consumption City (L/100 km) \n",
            "- Fuel Consumption Comb (L/100 km) \n",
            "- Fuel Consumption Comb (mpg) \n"
          ],
          "name": "stdout"
        },
        {
          "output_type": "display_data",
          "data": {
            "image/png": "[encoded data removed]",
            "text/plain": [
              "<Figure size 432x288 with 1 Axes>"
            ]
          },
          "metadata": {
            "needs_background": "light"
          }
        }
      ]
    },
    {
      "cell_type": "markdown",
      "metadata": {
        "id": "rpgWsfEOJWPc"
      },
      "source": [
        "# Feature Selection Using Correlation"
      ]
    },
    {
      "cell_type": "code",
      "metadata": {
        "id": "kWApXQ-BJaoO",
        "colab": {
          "base_uri": "https://localhost:8080/",
          "height": 655
        },
        "outputId": "fa1affb7-70a4-4844-ba50-5c17844b5bf7"
      },
      "source": [
        "fig_dims = (12, 8)\n",
        "fig, ax = plt.subplots(figsize=fig_dims)\n",
        "sn.heatmap(data_clean.corr(), ax=ax)\n",
        "plt.show()"
      ],
      "execution_count": null,
      "outputs": [
        {
          "output_type": "display_data",
          "data": {
            "image/png": "[encoded data removed]",
            "text/plain": [
              "<Figure size 864x576 with 2 Axes>"
            ]
          },
          "metadata": {
            "needs_background": "light"
          }
        }
      ]
    },
    {
      "cell_type": "code",
      "metadata": {
        "id": "Ywk_aIulT73z",
        "colab": {
          "base_uri": "https://localhost:8080/"
        },
        "outputId": "999e1b64-4418-4e4b-9155-24f2881620a3"
      },
      "source": [
        "abs(data_clean.corr()[\"CO2 Emissions(g/km)\"])"
      ],
      "execution_count": null,
      "outputs": [
        {
          "output_type": "execute_result",
          "data": {
            "text/plain": [
              "Make                                0.088644\n",
              "Model                               0.019353\n",
              "Vehicle Class                       0.239065\n",
              "Engine Size(L)                      0.851145\n",
              "Cylinders                           0.832644\n",
              "Transmission                        0.067575\n",
              "Fuel Type                           0.256880\n",
              "Fuel Consumption City (L/100 km)    0.919592\n",
              "Fuel Consumption Hwy (L/100 km)     0.883536\n",
              "Fuel Consumption Comb (L/100 km)    0.918052\n",
              "Fuel Consumption Comb (mpg)         0.907426\n",
              "CO2 Emissions(g/km)                 1.000000\n",
              "Name: CO2 Emissions(g/km), dtype: float64"
            ]
          },
          "metadata": {},
          "execution_count": 72
        }
      ]
    },
    {
      "cell_type": "code",
      "metadata": {
        "id": "fM89RTlRUI9T",
        "colab": {
          "base_uri": "https://localhost:8080/"
        },
        "outputId": "c166c381-dada-4b2f-f6a0-713025517c84"
      },
      "source": [
        "print('Useful Features')\n",
        "\n",
        "for feature in abs(data_clean.corr()[\"CO2 Emissions(g/km)\"][abs(data_clean.corr()[\"CO2 Emissions(g/km)\"])>0.5].drop('CO2 Emissions(g/km)')).index.tolist():\n",
        "  print(f'- {feature}')\n"
      ],
      "execution_count": null,
      "outputs": [
        {
          "output_type": "stream",
          "text": [
            "Useful Features\n",
            "- Engine Size(L)\n",
            "- Cylinders\n",
            "- Fuel Consumption City (L/100 km)\n",
            "- Fuel Consumption Hwy (L/100 km)\n",
            "- Fuel Consumption Comb (L/100 km)\n",
            "- Fuel Consumption Comb (mpg)\n"
          ],
          "name": "stdout"
        }
      ]
    },
    {
      "cell_type": "markdown",
      "metadata": {
        "id": "VWI09fUaoidf"
      },
      "source": [
        "# Predictions"
      ]
    },
    {
      "cell_type": "code",
      "metadata": {
        "id": "_j-32vWsoojX",
        "colab": {
          "base_uri": "https://localhost:8080/",
          "height": 221
        },
        "outputId": "8cdb219c-0319-4463-93f5-468497bf5fcb"
      },
      "source": [
        "# We reomved the features based in feature selection by Correlation\n",
        "X = data_clean.drop(columns=['Make', 'Model', 'Vehicle Class', 'Transmission', 'Fuel Type', 'CO2 Emissions(g/km)'])\n",
        "y = data_clean['CO2 Emissions(g/km)']\n",
        "\n",
        "X.head()"
      ],
      "execution_count": null,
      "outputs": [
        {
          "output_type": "execute_result",
          "data": {
            "text/html": [
              "<div>\n",
              "<style scoped>\n",
              "    .dataframe tbody tr th:only-of-type {\n",
              "        vertical-align: middle;\n",
              "    }\n",
              "\n",
              "    .dataframe tbody tr th {\n",
              "        vertical-align: top;\n",
              "    }\n",
              "\n",
              "    .dataframe thead th {\n",
              "        text-align: right;\n",
              "    }\n",
              "</style>\n",
              "<table border=\"1\" class=\"dataframe\">\n",
              "  <thead>\n",
              "    <tr style=\"text-align: right;\">\n",
              "      <th></th>\n",
              "      <th>Engine Size(L)</th>\n",
              "      <th>Cylinders</th>\n",
              "      <th>Fuel Consumption City (L/100 km)</th>\n",
              "      <th>Fuel Consumption Hwy (L/100 km)</th>\n",
              "      <th>Fuel Consumption Comb (L/100 km)</th>\n",
              "      <th>Fuel Consumption Comb (mpg)</th>\n",
              "    </tr>\n",
              "  </thead>\n",
              "  <tbody>\n",
              "    <tr>\n",
              "      <th>0</th>\n",
              "      <td>2.0</td>\n",
              "      <td>4</td>\n",
              "      <td>9.9</td>\n",
              "      <td>6.7</td>\n",
              "      <td>8.5</td>\n",
              "      <td>33</td>\n",
              "    </tr>\n",
              "    <tr>\n",
              "      <th>1</th>\n",
              "      <td>2.4</td>\n",
              "      <td>4</td>\n",
              "      <td>11.2</td>\n",
              "      <td>7.7</td>\n",
              "      <td>9.6</td>\n",
              "      <td>29</td>\n",
              "    </tr>\n",
              "    <tr>\n",
              "      <th>2</th>\n",
              "      <td>1.5</td>\n",
              "      <td>4</td>\n",
              "      <td>6.0</td>\n",
              "      <td>5.8</td>\n",
              "      <td>5.9</td>\n",
              "      <td>48</td>\n",
              "    </tr>\n",
              "    <tr>\n",
              "      <th>3</th>\n",
              "      <td>3.5</td>\n",
              "      <td>6</td>\n",
              "      <td>12.7</td>\n",
              "      <td>9.1</td>\n",
              "      <td>11.1</td>\n",
              "      <td>25</td>\n",
              "    </tr>\n",
              "    <tr>\n",
              "      <th>4</th>\n",
              "      <td>3.5</td>\n",
              "      <td>6</td>\n",
              "      <td>12.1</td>\n",
              "      <td>8.7</td>\n",
              "      <td>10.6</td>\n",
              "      <td>27</td>\n",
              "    </tr>\n",
              "  </tbody>\n",
              "</table>\n",
              "</div>"
            ],
            "text/plain": [
              "   Engine Size(L)  ...  Fuel Consumption Comb (mpg)\n",
              "0             2.0  ...                           33\n",
              "1             2.4  ...                           29\n",
              "2             1.5  ...                           48\n",
              "3             3.5  ...                           25\n",
              "4             3.5  ...                           27\n",
              "\n",
              "[5 rows x 6 columns]"
            ]
          },
          "metadata": {},
          "execution_count": 108
        }
      ]
    },
    {
      "cell_type": "markdown",
      "metadata": {
        "id": "U7YfP8X1iUm1"
      },
      "source": [
        "# Predicting Emission Using Decision Tree Classifier\n"
      ]
    },
    {
      "cell_type": "code",
      "metadata": {
        "id": "yV45YCYPirmx",
        "colab": {
          "base_uri": "https://localhost:8080/"
        },
        "outputId": "e691db71-ad2a-47c5-c6ba-e09cf05e4c96"
      },
      "source": [
        "model = DecisionTreeClassifier()\n",
        "\n",
        "# train 100 times until best model is gotten\n",
        "best = 0\n",
        "for _ in range(100):\n",
        "    X_train, X_test, y_train, y_test = train_test_split(X, y, test_size=0.2)\n",
        "    model.fit(X_train, y_train)\n",
        "\n",
        "    score = model.score(X_test, y_test)\n",
        "    if score > best :\n",
        "        best = score\n",
        "        pickle.dump(model, open(\"decision_tree_model.pickle\", \"wb\"))\n",
        "\n",
        "predictions = model.predict(X_test)\n",
        "score = accuracy_score(y_test, predictions)\n",
        "\n",
        "print(f'Accuracy of the model - {score}')"
      ],
      "execution_count": null,
      "outputs": [
        {
          "output_type": "stream",
          "text": [
            "Accuracy of the model - 0.5382532159783344\n"
          ],
          "name": "stdout"
        }
      ]
    },
    {
      "cell_type": "markdown",
      "metadata": {
        "id": "zHJRrY1ElIiH"
      },
      "source": [
        "# Predicting Emission Using Linear Regression"
      ]
    },
    {
      "cell_type": "code",
      "metadata": {
        "id": "TrwZJ0_UlpVc",
        "colab": {
          "base_uri": "https://localhost:8080/"
        },
        "outputId": "6053f03d-ff3b-440c-a15e-349c092adac0"
      },
      "source": [
        "# We reomved the features based in feature selection by Correlation\n",
        "X = data_clean.drop(columns=['Make', 'Model', 'Vehicle Class', 'Transmission', 'Fuel Type', 'CO2 Emissions(g/km)'])\n",
        "y = data_clean['CO2 Emissions(g/km)']\n",
        "\n",
        "model = LinearRegression()\n",
        "\n",
        "# train 100 times until best model is gotten\n",
        "best = 0\n",
        "for _ in range(100):\n",
        "    X_train, X_test, y_train, y_test = train_test_split(X, y, test_size=0.2)\n",
        "    model.fit(X_train, y_train)\n",
        "\n",
        "    score = model.score(X_test, y_test)\n",
        "    if score > best :\n",
        "        best = score\n",
        "        pickle.dump(model, open(\"linear_regression_model.pickle\", \"wb\"))\n",
        "\n",
        "print(f'Accuracy of the model - {best}')"
      ],
      "execution_count": 12,
      "outputs": [
        {
          "output_type": "stream",
          "text": [
            "Accuracy of the model - 0.9210140455927359\n"
          ],
          "name": "stdout"
        }
      ]
    },
    {
      "cell_type": "code",
      "metadata": {
        "id": "jxlsnvedqR9T",
        "colab": {
          "base_uri": "https://localhost:8080/",
          "height": 281
        },
        "outputId": "90cb47ea-a2d8-48f2-dab6-15d9f6f295a8"
      },
      "source": [
        "for feature in list(X.columns):\n",
        "  x_value = feature\n",
        "  slope, intercept, r, p, std_err = stats.linregress(data[x_value], y)\n",
        "\n",
        "  def line(x):\n",
        "      return slope * x + intercept\n",
        "\n",
        "  graph_y = list(map(line, data[x_value]))\n",
        "  plt.plot(data[x_value], graph_y, label=feature)\n",
        "\n",
        "plt.legend(loc='center left', bbox_to_anchor=(1, 0.5))\n",
        "plt.title('Realtionship between Features and CO2 Emission')\n",
        "plt.show()"
      ],
      "execution_count": null,
      "outputs": [
        {
          "output_type": "display_data",
          "data": {
            "image/png": "[encoded data removed]",
            "text/plain": [
              "<Figure size 432x288 with 1 Axes>"
            ]
          },
          "metadata": {
            "needs_background": "light"
          }
        }
      ]
    },
    {
      "cell_type": "markdown",
      "metadata": {
        "id": "4BAhh7mmvq3n"
      },
      "source": [
        "# Suggest Alternative Car With less Carbon Output"
      ]
    },
    {
      "cell_type": "code",
      "metadata": {
        "id": "sggtkdOsv7Wl",
        "outputId": "5f1fa012-72f0-4a9e-e7f0-e902c27232bf",
        "colab": {
          "base_uri": "https://localhost:8080/"
        }
      },
      "source": [
        "def suggest_alternative_car(make, model, vehicle_class, engine_size, cylinders, transmission, fuel_type, FC_city,\n",
        "                            FC_hwy, FC_comb_L100, FC_comb_mpg):\n",
        "  # Predict the emission\n",
        "  ml_model = pickle.load(open('linear_regression_model.pickle', 'rb'))\n",
        "  X = [[engine_size, cylinders, FC_city, FC_hwy, FC_comb_L100, FC_comb_mpg]]\n",
        "  emission = ml_model.predict(X)\n",
        "  print(f'Predicted CO2 Emission(g/km) {emission} \\n')\n",
        "\n",
        "  # loops through the dataset to find a different car that emmits less carbon\n",
        "\n",
        "  for car in data_clean.values.tolist():\n",
        "    if car[0] != make and car[1] != model:\n",
        "      if car[2] == vehicle_class and car[6] == fuel_type:\n",
        "        if car[11] < emission :\n",
        "          for c, m in make_dict.items():\n",
        "            if m == car[0]:\n",
        "              print(f'Make - {c}')\n",
        "          for c, m in model_dict.items():\n",
        "            if m == car[1]:\n",
        "              print(f'Model - {c} \\n')\n",
        "\n",
        "make = \"ACURA\"\n",
        "make = make_dict.get(make, 0)\n",
        "model = \"ILX HYBRID\"\n",
        "model = model_dict.get(model, 0)\n",
        "vehicle_class = \"COMPACT\"\n",
        "vehicle_class = vehicle_class_dict.get(vehicle_class, 0)\n",
        "engine_size = 1.5\n",
        "cylinders = 4 \n",
        "transmission = \"AV7\"\n",
        "transmission = transmission_dict.get(transmission, 0)\n",
        "fuel_type = \"Z\"\n",
        "fuel_type = fuel_type_dict.get(fuel_type, 0)\n",
        "FC_city = 6                \n",
        "FC_hwy = 5.8\n",
        "FC_comb_L100 = 5.9\n",
        "FC_comb_mpg = 48\n",
        "\n",
        "suggest_alternative_car(make, model, vehicle_class, engine_size, cylinders, transmission, fuel_type, FC_city, FC_hwy, FC_comb_L100, FC_comb_mpg)"
      ],
      "execution_count": 74,
      "outputs": [
        {
          "output_type": "stream",
          "text": [
            "Predicted CO2 Emission(g/km) [136.33115579] \n",
            "\n"
          ],
          "name": "stdout"
        }
      ]
    }
  ]
}